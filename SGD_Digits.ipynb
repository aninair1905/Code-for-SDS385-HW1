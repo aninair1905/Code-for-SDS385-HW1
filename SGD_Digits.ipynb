{
 "cells": [
  {
   "cell_type": "code",
   "execution_count": 22,
   "metadata": {},
   "outputs": [],
   "source": [
    "import pandas as pd\n",
    "import numpy as np\n",
    "import matplotlib.pyplot as plt\n",
    "import seaborn as sns\n",
    "sns.set(style=\"white\", color_codes=True)"
   ]
  },
  {
   "cell_type": "code",
   "execution_count": 23,
   "metadata": {},
   "outputs": [],
   "source": [
    "train = pd.read_csv('logistic_digits_train.txt')\n",
    "test = pd.read_csv('logistic_digits_test.txt')\n",
    "#Now, we remove spaces present within column names for easier analysis\n",
    "train.columns = train.columns.str.replace(' ', '')\n",
    "test.columns = test.columns.str.replace(' ', '')"
   ]
  },
  {
   "cell_type": "code",
   "execution_count": 24,
   "metadata": {},
   "outputs": [],
   "source": [
    "def logit(train, weights, biases):\n",
    "    logit_scores = (weights.dot(train.T).T) + biases[:,0]\n",
    "    return logit_scores"
   ]
  },
  {
   "cell_type": "code",
   "execution_count": 36,
   "metadata": {},
   "outputs": [],
   "source": [
    "def softmax(logit_matrix, output_nums):\n",
    "    prob_dist = np.array([np.empty([output_nums]) for i in range(len(logit_matrix))])\n",
    "    for i in range(len(logit_matrix)):\n",
    "        logit_matrix[i] -= np.max(logit_matrix)\n",
    "        x = np.exp(logit_matrix[i])\n",
    "        prob_dist[i] = x/(np.sum(x))\n",
    "    return prob_dist"
   ]
  },
  {
   "cell_type": "code",
   "execution_count": 37,
   "metadata": {},
   "outputs": [],
   "source": [
    "def cross_entropy(probabilities, gt_classes, weights):\n",
    "    prob_length = len(probabilities)\n",
    "    lamb = 1/len(gt_classes)\n",
    "    L2 = (weights.T.dot(weights))*lamb\n",
    "    #L2norm = np.linalg.norm(weights)\n",
    "    cross_entropy.log_likelihood = np.log(probabilities[np.arange(prob_length), gt_classes.squeeze(-1)])\n",
    "    loss = cross_entropy.log_likelihood.sum() #+ ((L2norm)**2)/len(gt_classes) + L2 \n",
    "    averaged_loss = loss/prob_length\n",
    "    return averaged_loss\n"
   ]
  },
  {
   "cell_type": "code",
   "execution_count": 38,
   "metadata": {},
   "outputs": [],
   "source": [
    "def sgd(train, gt_classes, weights,\n",
    "        biases, step_size, output_nums,\n",
    "        iterations):\n",
    "\n",
    "    n = len(gt_classes)\n",
    "    lamb = 1/n\n",
    "    L2 = lamb * (weights.T.dot(weights))\n",
    "    axis0 = np.arange(train.shape[0])\n",
    "    cost_history = np.zeros(iterations)\n",
    "\n",
    "    for x in range(iterations):\n",
    "\n",
    "        cost = 0.0\n",
    "\n",
    "        # update weight vector based on one datapoint at a time.\n",
    "\n",
    "        for i in range(n):\n",
    "            index = np.random.randint(0, n)\n",
    "            \n",
    "            data = train[index, :].reshape(1, -1)\n",
    "            label = gt_classes[index]\n",
    "\n",
    "            logitScores = logit(data, weights, biases)\n",
    "            probs = softmax(logitScores, output_nums)\n",
    "\n",
    "            cost = cost + cross_entropy(probs, gt_classes[index], weights)\n",
    "            \n",
    "            probs[0, label] -= 1\n",
    "\n",
    "            # gradient of weights\n",
    "            weight_grad = probs.T.dot(data) #+ L2\n",
    "            bias_grad = np.sum(probs, axis=0).reshape(-1, 1)\n",
    "\n",
    "            # update weights\n",
    "            weights = weights - (step_size * weight_grad)\n",
    "\n",
    "            # update biases\n",
    "            biases = biases - (step_size * bias_grad)\n",
    "\n",
    "            cost_history[x] = cost/n\n",
    "            if x>1 and (cost_history[x-1] > cost_history[x]):\n",
    "                step_size = step_size/10\n",
    "\n",
    "    return weights, biases, cost_history\n",
    "\n"
   ]
  },
  {
   "cell_type": "code",
   "execution_count": 41,
   "metadata": {},
   "outputs": [
    {
     "data": {
      "image/png": "[encoded data removed]",
      "text/plain": [
       "<Figure size 432x288 with 1 Axes>"
      ]
     },
     "metadata": {},
     "output_type": "display_data"
    }
   ],
   "source": [
    "output_classes = len(np.unique(train['Var2'].values))\n",
    "#n_cls_news = len(np.unique(train_news['Var2'].values))\n",
    "\n",
    "\n",
    "features = train.shape[1] - 1\n",
    "#n_feats_news = df_train_news.shape[1] - 1\n",
    "\n",
    "step_size = 0.01\n",
    "iterations = 100\n",
    "\n",
    "weight_matr = np.random.rand(output_classes, features)\n",
    "biases = np.random.rand(output_classes, 1)\n",
    "\n",
    "# W_news = np.random.rand(n_cls_news, n_feats_news)\n",
    "# biases_news = np.random.rand(n_cls_news, 1)\n",
    "\n",
    "X = train.loc[:, :'X_train_65'].to_numpy()\n",
    "y = train.loc[:, 'Var2'].to_numpy().reshape(-1, 1)\n",
    "\n",
    "# X_news = df_train_news.loc[:, :'X_train_2001'].to_numpy()\n",
    "# y_news = df_train_news.loc[:, 'Var2'].to_numpy().reshape(-1, 1)\n",
    "\n",
    "\n",
    "X = X / 255.\n",
    "#from sklearn import preprocessing\n",
    "#from sklearn.preprocessing import MinMaxScaler\n",
    "#scaler = MinMaxScaler()\n",
    "#X = scaler.fit_transform(X)\n",
    "\n",
    "\n",
    "weights, biases, log_likelihood = sgd(X, y, weight_matr, biases, step_size, output_classes, iterations)\n",
    "#print(log_likelihood)\n",
    "# W_news, biases_news, LL_news = sgd(X_news, y_news, W_news, biases_news, lr, n_cls_news, iterations)\n",
    "\n",
    "# plot log likelihood\n",
    "x = np.arange(iterations)\n",
    "sns.set_style('whitegrid')\n",
    "ax = sns.lineplot(x=x, y=log_likelihood, color = 'red')\n",
    "\n",
    "ax.set_title(\"SGD Log Likelihood: Digits\")\n",
    "ax.set_xlabel(\"Number of Iterations\")\n",
    "ax.set_ylabel(\"Log Likelihood\")\n",
    "plt.show()\n"
   ]
  },
  {
   "cell_type": "code",
   "execution_count": 40,
   "metadata": {},
   "outputs": [
    {
     "name": "stdout",
     "output_type": "stream",
     "text": [
      "Digits accuracy: 84.47%\n"
     ]
    }
   ],
   "source": [
    "def predict(x_test, W, y, biases, n_cls):\n",
    "    logit_scores = logit(x_test, W, biases)\n",
    "    probs = softmax(logit_scores, n_cls)\n",
    "    y_hat = np.argmax(probs, axis = 1).reshape(-1,1)\n",
    "    accuracy = (y_hat == y).sum() / len(y) * 100\n",
    "    return accuracy\n",
    "\n",
    "# feature and label vectors\n",
    "X_test = test.loc[:, :'X_test_65'].to_numpy()\n",
    "y_test = test.loc[:, 'Var2'].to_numpy().reshape(-1, 1)\n",
    "\n",
    "\n",
    "#X_test = X_test / 255\n",
    "from sklearn import preprocessing\n",
    "from sklearn.preprocessing import MinMaxScaler\n",
    "scaler = MinMaxScaler()\n",
    "X_test = scaler.fit_transform(X_test)\n",
    "output_nums=10\n",
    "acc = predict(X_test, weights, y_test, biases, output_nums)\n",
    "\n",
    "print(f\"Digits accuracy: {acc:.2f}%\")\n"
   ]
  },
  {
   "cell_type": "code",
   "execution_count": null,
   "metadata": {},
   "outputs": [],
   "source": []
  }
 ],
 "metadata": {
  "kernelspec": {
   "display_name": "Python 3",
   "language": "python",
   "name": "python3"
  },
  "language_info": {
   "codemirror_mode": {
    "name": "ipython",
    "version": 3
   },
   "file_extension": ".py",
   "mimetype": "text/x-python",
   "name": "python",
   "nbconvert_exporter": "python",
   "pygments_lexer": "ipython3",
   "version": "3.8.3"
  }
 },
 "nbformat": 4,
 "nbformat_minor": 4
}
