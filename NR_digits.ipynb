{
 "cells": [
  {
   "cell_type": "code",
   "execution_count": 1,
   "metadata": {},
   "outputs": [],
   "source": [
    "import pandas as pd\n",
    "import numpy as np\n",
    "import matplotlib.pyplot as plt\n",
    "import seaborn as sns\n",
    "sns.set(style=\"white\", color_codes=True)"
   ]
  },
  {
   "cell_type": "code",
   "execution_count": 2,
   "metadata": {},
   "outputs": [],
   "source": [
    "train = pd.read_csv('logistic_digits_train.txt')\n",
    "test = pd.read_csv('logistic_digits_test.txt')\n",
    "#Now, we remove spaces present within column names for easier analysis\n",
    "train.columns = train.columns.str.replace(' ', '')\n",
    "test.columns = test.columns.str.replace(' ', '')"
   ]
  },
  {
   "cell_type": "code",
   "execution_count": 7,
   "metadata": {},
   "outputs": [],
   "source": [
    "def logit(train, weights, biases):\n",
    "    logit_scores = (weights.dot(train.T).T) + biases[:,0]\n",
    "    return logit_scores\n"
   ]
  },
  {
   "cell_type": "code",
   "execution_count": 11,
   "metadata": {},
   "outputs": [],
   "source": [
    "def softmax(logits: np.ndarray, n_cls: int):\n",
    "\n",
    "\n",
    "    probs = np.array([np.empty([n_cls]) for i in range(logits.shape[0])])\n",
    "\n",
    "    for i in range(logits.shape[0]):\n",
    "        exp = np.exp(logits[i])\n",
    "        denom = np.sum(exp)\n",
    "\n",
    "        # logit scores to probability values\n",
    "        probs[i] = exp / denom\n",
    "\n",
    "    return probs\n",
    "\n",
    "\n",
    "def linearPredict(X: np.ndarray, W: np.ndarray, biases: np.ndarray, n_cls: int):\n",
    "\n",
    "    logits = W.dot(X.T).T\n",
    "\n",
    "    return logits\n",
    "\n",
    "\n",
    "def cross_entropy(probs: np.ndarray, y: np.ndarray, W:np.ndarray) -> float:\n",
    "\n",
    "    n = probs.shape[0]\n",
    "\n",
    "    L2 = np.sum(W ** 2 / (2*n))\n",
    "\n",
    "    axis0 = np.arange(n)\n",
    "\n",
    "    CELoss = np.log(probs[axis0, y.squeeze(-1)]).sum() + L2\n",
    "\n",
    "    return CELoss / n\n"
   ]
  },
  {
   "cell_type": "code",
   "execution_count": 12,
   "metadata": {},
   "outputs": [],
   "source": [
    "def newton_raphson(training, gt_classes, weights,\n",
    "       biases, step_size, output_nums,\n",
    "       iterations):\n",
    "\n",
    "    n = len(gt_classes)\n",
    "\n",
    "    lamb = 1/n\n",
    "    L2 = lamb * (weights.T.dot(weights))\n",
    "    reg = lamb*np.eye(65)\n",
    "\n",
    "    axis0 = np.arange(len(training))\n",
    "\n",
    "    cost_history = np.zeros(iterations)\n",
    "\n",
    "    for x in range(iterations):\n",
    "\n",
    "        logitScores = logit(training, weights, biases)\n",
    "        probs = softmax(logitScores, output_nums)\n",
    "        # error\n",
    "        cost_history[x] = cross_entropy(probs, gt_classes, weights)\n",
    "\n",
    "        pi = np.sum(probs*(1-probs), axis=1)\n",
    "        diagonal = np.expand_dims(pi, axis=0) * np.identity(len(pi))\n",
    "        \n",
    "        # probability error\n",
    "        probs[axis0, gt_classes.squeeze(-1)] -= 1\n",
    "\n",
    "        # n_feats x n_feats\n",
    "        hessian = training.T.dot(diagonal).dot(training) #+ L2\n",
    "        hessian = hessian + reg\n",
    "\n",
    "        # first derivative w.r.t weights\n",
    "        firstD = probs.T.dot(training).T\n",
    "\n",
    "        # gradient of weights and biases\n",
    "        gradsW = np.linalg.inv(hessian).dot(firstD).T\n",
    "\n",
    "        gradsBiases = np.sum(probs, axis=0).reshape(-1, 1)\n",
    "\n",
    "        # update weights\n",
    "        weights = weights - (step_size * gradsW) \n",
    "\n",
    "        # update biases\n",
    "        biases = biases - (step_size * gradsBiases)\n",
    "\n",
    "    return weights, biases, cost_history\n",
    "\n",
    "\n",
    "step_size = .01\n",
    "iterations = 500\n",
    "output_nums = len(np.unique(train['Var2'].values))\n",
    "features = train.shape[1] - 1\n",
    "\n",
    "weights = np.random.rand(output_nums, features)\n",
    "biases = np.random.rand(output_nums, 1)\n",
    "\n",
    "X = train.loc[:, :'X_train_65'].to_numpy()\n",
    "X= X/255.\n",
    "X_test = test.loc[:, :'X_test_65'].to_numpy()\n",
    "y = train.loc[:, 'Var2'].to_numpy().reshape(-1, 1)\n",
    "y_test = test.loc[:, 'Var2'].to_numpy().reshape(-1, 1)\n",
    "\n",
    "weights, biases, log_likelihood = newton_raphson(X, y, weights, biases, step_size, output_nums, iterations)"
   ]
  },
  {
   "cell_type": "code",
   "execution_count": 17,
   "metadata": {},
   "outputs": [
    {
     "data": {
      "image/png": "[encoded data removed]",
      "text/plain": [
       "<Figure size 432x288 with 1 Axes>"
      ]
     },
     "metadata": {},
     "output_type": "display_data"
    }
   ],
   "source": [
    "x = np.arange(iterations)\n",
    "\n",
    "ax = sns.lineplot(x=x, y=log_likelihood)\n",
    "\n",
    "ax.set_title(\"Newton Raphson Log Likelihood: Digits\")\n",
    "ax.set_xlabel(\"Number of Iterations\")\n",
    "ax.set_ylabel(\"Log Likelihood\")\n",
    "plt.show()"
   ]
  },
  {
   "cell_type": "code",
   "execution_count": 15,
   "metadata": {},
   "outputs": [],
   "source": [
    "def predict(x_test, W, y, biases, n_cls):\n",
    "    logit_scores = logit(x_test, W, biases)\n",
    "    probs = softmax(logit_scores, n_cls)\n",
    "    y_hat = np.argmax(probs, axis = 1).reshape(-1,1)\n",
    "    accuracy = (y_hat == y).sum() / len(y) * 100\n",
    "    return accuracy"
   ]
  },
  {
   "cell_type": "code",
   "execution_count": 16,
   "metadata": {},
   "outputs": [
    {
     "name": "stdout",
     "output_type": "stream",
     "text": [
      "Digits accuracy: 94.49%\n"
     ]
    }
   ],
   "source": [
    "# feature and label vectors\n",
    "X_test = test.loc[:, :'X_test_65'].to_numpy()\n",
    "y_test = test.loc[:, 'Var2'].to_numpy().reshape(-1, 1)\n",
    "\n",
    "\n",
    "X_test = X_test / 255\n",
    "#from sklearn import preprocessing\n",
    "#from sklearn.preprocessing import StandardScaler\n",
    "#scaler = StandardScaler()\n",
    "#X_test = scaler.fit_transform(X_test)\n",
    "output_nums=10\n",
    "acc = predict(X_test, weights, y_test, biases, output_nums)\n",
    "\n",
    "print(f\"Digits accuracy: {acc:.2f}%\")"
   ]
  },
  {
   "cell_type": "code",
   "execution_count": null,
   "metadata": {},
   "outputs": [],
   "source": []
  }
 ],
 "metadata": {
  "kernelspec": {
   "display_name": "Python 3",
   "language": "python",
   "name": "python3"
  },
  "language_info": {
   "codemirror_mode": {
    "name": "ipython",
    "version": 3
   },
   "file_extension": ".py",
   "mimetype": "text/x-python",
   "name": "python",
   "nbconvert_exporter": "python",
   "pygments_lexer": "ipython3",
   "version": "3.8.3"
  }
 },
 "nbformat": 4,
 "nbformat_minor": 4
}
