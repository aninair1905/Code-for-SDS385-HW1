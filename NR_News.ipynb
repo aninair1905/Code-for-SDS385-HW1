{
 "cells": [
  {
   "cell_type": "code",
   "execution_count": 17,
   "metadata": {},
   "outputs": [],
   "source": [
    "import pandas as pd\n",
    "import numpy as np\n",
    "import matplotlib.pyplot as plt\n",
    "import seaborn as sns\n",
    "sns.set(style=\"white\", color_codes=True)"
   ]
  },
  {
   "cell_type": "code",
   "execution_count": 18,
   "metadata": {},
   "outputs": [],
   "source": [
    "train = pd.read_csv('logistic_news_train.txt')\n",
    "test = pd.read_csv('logistic_news_test.txt')\n",
    "#Now, we remove spaces present within column names for easier analysis\n",
    "train.columns = train.columns.str.replace(' ', '')\n",
    "test.columns = test.columns.str.replace(' ', '')"
   ]
  },
  {
   "cell_type": "code",
   "execution_count": 23,
   "metadata": {},
   "outputs": [],
   "source": [
    "def logit(train, weights, biases):\n",
    "    logit_scores = (weights.dot(train.T).T) + biases[:,0]\n",
    "    return logit_scores"
   ]
  },
  {
   "cell_type": "code",
   "execution_count": 27,
   "metadata": {},
   "outputs": [],
   "source": [
    "def softmax(logits: np.ndarray, n_cls: int):\n",
    "\n",
    "\n",
    "    probs = np.array([np.empty([n_cls]) for i in range(logits.shape[0])])\n",
    "\n",
    "    for i in range(logits.shape[0]):\n",
    "        exp = np.exp(logits[i])\n",
    "        denom = np.sum(exp)\n",
    "\n",
    "        # logit scores to probability values\n",
    "        probs[i] = exp / denom\n",
    "\n",
    "    return probs\n",
    "\n",
    "\n",
    "def linearPredict(X: np.ndarray, W: np.ndarray, biases: np.ndarray, n_cls: int):\n",
    "\n",
    "    logits = W.dot(X.T).T\n",
    "\n",
    "    return logits\n",
    "\n",
    "\n",
    "# def cross_entropy(probs: np.ndarray, y: np.ndarray, W:np.ndarray) -> float:\n",
    "\n",
    "#     n = probs.shape[0]\n",
    "\n",
    "#     L2 = np.sum(W ** 2 / (2*n))\n",
    "\n",
    "#     axis0 = np.arange(n)\n",
    "\n",
    "#     CELoss = -np.log(probs[axis0, y.squeeze(-1)]).sum() + L2\n",
    "\n",
    "#     return CELoss / n\n",
    "\n",
    "def cross_entropy(probabilities, gt_classes, weights):\n",
    "    prob_length = len(probabilities)\n",
    "    lamb = 1/len(gt_classes)\n",
    "    L2 = (weights.T.dot(weights))*lamb\n",
    "    #L2norm = np.linalg.norm(weights)\n",
    "    cross_entropy.log_likelihood = np.log(probabilities[np.arange(prob_length), gt_classes.squeeze(-1)])\n",
    "    loss = cross_entropy.log_likelihood.sum() #+ ((L2norm)**2)/len(gt_classes) + L2 \n",
    "    averaged_loss = loss/prob_length\n",
    "    return averaged_loss"
   ]
  },
  {
   "cell_type": "code",
   "execution_count": 30,
   "metadata": {},
   "outputs": [],
   "source": [
    "def newton_raphson(training, gt_classes, weights,\n",
    "       biases, step_size, output_nums,\n",
    "       iterations):\n",
    "\n",
    "    n = len(gt_classes)\n",
    "\n",
    "    lamb = 1/n\n",
    "    L2 = lamb * (weights.T.dot(weights))\n",
    "    reg = lamb*np.eye(2001)\n",
    "\n",
    "    axis0 = np.arange(len(training))\n",
    "\n",
    "    cost_history = np.zeros(iterations)\n",
    "\n",
    "    for x in range(iterations):\n",
    "\n",
    "        logitScores = logit(training, weights, biases)\n",
    "        probs = softmax(logitScores, output_nums)\n",
    "        # error\n",
    "        cost_history[x] = cross_entropy(probs, gt_classes, weights)\n",
    "\n",
    "        pi = np.sum(probs*(1-probs), axis=1)\n",
    "        diagonal = np.expand_dims(pi, axis=0) * np.identity(len(pi))\n",
    "        \n",
    "        # probability error\n",
    "        probs[axis0, gt_classes.squeeze(-1)] -= 1\n",
    "\n",
    "        # n_feats x n_feats\n",
    "        hessian = training.T.dot(diagonal).dot(training) #+ L2\n",
    "        hessian = hessian + reg\n",
    "\n",
    "        # first derivative w.r.t weights\n",
    "        firstD = probs.T.dot(training).T\n",
    "\n",
    "        # gradient of weights and biases\n",
    "        gradsW = np.linalg.inv(hessian).dot(firstD).T + (2*weights/n)\n",
    "\n",
    "        gradsBiases = np.sum(probs, axis=0).reshape(-1, 1)\n",
    "\n",
    "        # update weights\n",
    "        weights = weights - (step_size * gradsW) \n",
    "\n",
    "        # update biases\n",
    "        biases = biases - (step_size * gradsBiases)\n",
    "\n",
    "    return weights, biases, cost_history\n",
    "\n",
    "\n",
    "step_size = .01\n",
    "iterations = 100\n",
    "output_nums = len(np.unique(train['Var2'].values))\n",
    "features = train.shape[1] - 1\n",
    "\n",
    "weights = np.random.rand(output_nums, features)\n",
    "biases = np.random.rand(output_nums, 1)\n",
    "\n",
    "\n",
    "\n",
    "\n",
    "X = train.loc[:, :'X_train_2001'].to_numpy()\n",
    "X_test = test.loc[:, :'X_test_2001'].to_numpy()\n",
    "y = train.loc[:, 'Var2'].to_numpy().reshape(-1, 1)\n",
    "y_test = test.loc[:, 'Var2'].to_numpy().reshape(-1, 1)\n",
    "\n",
    "\n",
    "from sklearn import preprocessing\n",
    "from sklearn.preprocessing import StandardScaler\n",
    "scaler = StandardScaler()\n",
    "X = scaler.fit_transform(X)\n",
    "\n",
    "weights, biases, log_likelihood = newton_raphson(X, y, weights, biases, step_size, output_nums, iterations)"
   ]
  },
  {
   "cell_type": "code",
   "execution_count": 32,
   "metadata": {},
   "outputs": [
    {
     "data": {
      "image/png": "[encoded data removed]",
      "text/plain": [
       "<Figure size 432x288 with 1 Axes>"
      ]
     },
     "metadata": {},
     "output_type": "display_data"
    }
   ],
   "source": [
    "x = np.arange(iterations)\n",
    "sns.set_style('whitegrid')\n",
    "ax = sns.lineplot(x=x, y=log_likelihood, color = 'red')\n",
    "\n",
    "ax.set_title(\"NR Log Likelihood: News\")\n",
    "ax.set_xlabel(\"Number of Iterations\")\n",
    "ax.set_ylabel(\"Log Likelihood\")\n",
    "plt.show()\n"
   ]
  },
  {
   "cell_type": "code",
   "execution_count": 33,
   "metadata": {},
   "outputs": [
    {
     "data": {
      "image/png": "[encoded data removed]",
      "text/plain": [
       "<Figure size 432x288 with 1 Axes>"
      ]
     },
     "metadata": {},
     "output_type": "display_data"
    }
   ],
   "source": [
    "x = np.arange(iterations)\n",
    "sns.set_style('whitegrid')\n",
    "ax = sns.lineplot(x=x, y=log_likelihood)\n",
    "\n",
    "ax.set_title(\"NR Log Likelihood: News\")\n",
    "ax.set_xlabel(\"Number of Iterations\")\n",
    "ax.set_ylabel(\"Log Likelihood\")\n",
    "plt.show()"
   ]
  },
  {
   "cell_type": "code",
   "execution_count": 34,
   "metadata": {},
   "outputs": [
    {
     "name": "stdout",
     "output_type": "stream",
     "text": [
      "Digits accuracy: 5.05%\n"
     ]
    }
   ],
   "source": [
    "def predict(x_test, W, y, biases, n_cls):\n",
    "    logit_scores = logit(x_test, W, biases)\n",
    "    probs = softmax(logit_scores, n_cls)\n",
    "    y_hat = np.argmax(probs, axis = 1).reshape(-1,1)\n",
    "    accuracy = (y_hat == y).sum() / len(y) * 100\n",
    "    return accuracy\n",
    "\n",
    "# feature and label vectors\n",
    "X_test = test.loc[:, :'X_test_2001'].to_numpy()\n",
    "y_test = test.loc[:, 'Var2'].to_numpy().reshape(-1, 1)\n",
    "\n",
    "\n",
    "#X_test = X_test / 255\n",
    "from sklearn import preprocessing\n",
    "from sklearn.preprocessing import MinMaxScaler\n",
    "scaler = MinMaxScaler()\n",
    "X_test = scaler.fit_transform(X_test)\n",
    "output_nums=20\n",
    "acc = predict(X_test, weights, y_test, biases, output_nums)\n",
    "\n",
    "print(f\"Digits accuracy: {acc:.2f}%\")\n"
   ]
  },
  {
   "cell_type": "code",
   "execution_count": null,
   "metadata": {},
   "outputs": [],
   "source": []
  }
 ],
 "metadata": {
  "kernelspec": {
   "display_name": "Python 3",
   "language": "python",
   "name": "python3"
  },
  "language_info": {
   "codemirror_mode": {
    "name": "ipython",
    "version": 3
   },
   "file_extension": ".py",
   "mimetype": "text/x-python",
   "name": "python",
   "nbconvert_exporter": "python",
   "pygments_lexer": "ipython3",
   "version": "3.8.3"
  }
 },
 "nbformat": 4,
 "nbformat_minor": 4
}
