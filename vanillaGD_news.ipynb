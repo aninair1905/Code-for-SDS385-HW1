{
 "cells": [
  {
   "cell_type": "code",
   "execution_count": 1,
   "metadata": {},
   "outputs": [],
   "source": [
    "import pandas as pd\n",
    "import numpy as np\n",
    "import matplotlib.pyplot as plt\n",
    "import seaborn as sns\n",
    "from sklearn.preprocessing import StandardScaler\n",
    "sns.set(style=\"white\", color_codes=True)"
   ]
  },
  {
   "cell_type": "code",
   "execution_count": 2,
   "metadata": {},
   "outputs": [],
   "source": [
    "train = pd.read_csv('logistic_news_train.txt')\n",
    "test = pd.read_csv('logistic_news_test.txt')\n",
    "#Now, we remove spaces present within column names for easier analysis\n",
    "#train.columns = train.columns.str.replace(' ', '')\n",
    "#test.columns = test.columns.str.replace(' ', '')\n",
    "#train.head()"
   ]
  },
  {
   "cell_type": "code",
   "execution_count": 3,
   "metadata": {},
   "outputs": [
    {
     "data": {
      "image/png": "[encoded data removed]",
      "text/plain": [
       "<Figure size 432x288 with 1 Axes>"
      ]
     },
     "metadata": {},
     "output_type": "display_data"
    }
   ],
   "source": [
    "def softmax(logits: np.ndarray, n_cls: int):\n",
    "\n",
    "\n",
    "    probs = np.array([np.empty([n_cls]) for i in range(logits.shape[0])])\n",
    "\n",
    "    for i in range(logits.shape[0]):\n",
    "        exp = np.exp(logits[i])\n",
    "        denom = np.sum(exp)\n",
    "\n",
    "        # logit scores to probability values\n",
    "        probs[i] = exp / denom\n",
    "\n",
    "    return probs\n",
    "def linearPredict(X: np.ndarray, W: np.ndarray, biases: np.ndarray, n_cls: int):\n",
    "\n",
    "    logits = W.dot(X.T).T\n",
    "\n",
    "    return logits\n",
    "\n",
    "\n",
    "def cross_entropy(probs: np.ndarray, y: np.ndarray, W:np.ndarray) -> float:\n",
    "\n",
    "    n = probs.shape[0]\n",
    "\n",
    "    L2 = np.sum(W ** 2 / (2*n))\n",
    "\n",
    "    axis0 = np.arange(n)\n",
    "\n",
    "    CELoss = np.log(probs[axis0, y.squeeze(-1)]).sum() + L2\n",
    "\n",
    "    return CELoss / n\n",
    "\n",
    "def gd(X: np.ndarray, y: np.ndarray, W: np.ndarray,\n",
    "       biases: np.ndarray, lr: float, n_cls: int,\n",
    "       iterations: int) -> (np.ndarray, np.ndarray, np.ndarray):\n",
    "\n",
    "    n = len(y)\n",
    "\n",
    "    L2 = np.sum(1 / n * W)\n",
    "\n",
    "\n",
    "    axis0 = np.arange(X.shape[0])\n",
    "\n",
    "    cost_history = np.zeros(iterations)\n",
    "\n",
    "    for it in range(iterations):\n",
    "\n",
    "        logitScores = linearPredict(X, W, biases, n_cls)\n",
    "        probs = softmax(logitScores, n_cls)\n",
    "\n",
    "        # error\n",
    "        cost_history[it] = cross_entropy(probs, y, W)\n",
    "\n",
    "        # compute error for probability of correct outcome\n",
    "        probs[axis0, y.squeeze(-1)] -= 1\n",
    "\n",
    "        # gradient of weights and biases\n",
    "        gradsW = probs.T.dot(X) + L2\n",
    "        gradsBiases = np.sum(probs, axis=0).reshape(-1, 1)\n",
    "\n",
    "        # update weights\n",
    "        W -= (lr * gradsW)\n",
    "\n",
    "        # update biases\n",
    "        biases -= (lr * gradsBiases)\n",
    "\n",
    "    return W, biases, cost_history\n",
    "\n",
    "### train\n",
    "n_cls = 20\n",
    "n_feats = train.shape[1] - 1\n",
    "lr = 0.0001\n",
    "iterations = 500\n",
    "\n",
    "#  weight matrix\n",
    "W = np.random.rand(n_cls, n_feats)\n",
    "biases = np.random.rand(n_cls, 1)\n",
    "\n",
    "# feature and label vectors\n",
    "X = train.loc[:, :'X_train_2001'].to_numpy()\n",
    "y = train.loc[:, 'Var2'].to_numpy().reshape(-1, 1)\n",
    "\n",
    "# normalize images\n",
    "scaler = StandardScaler()\n",
    "X = scaler.fit_transform(X)\n",
    "\n",
    "W, biases, costs = gd(X, y, W, biases, lr, n_cls, iterations)\n",
    "\n",
    "# plot log likelihood as a function of the number of iterations\n",
    "x = np.arange(iterations)\n",
    "\n",
    "ax = sns.lineplot(x=x, y=costs, palette=['red'])\n",
    "sns.color_palette()\n",
    "#ax.set_palette(\"Reds\")\n",
    "#ax.set_title(\"\")\n",
    "ax.set_xlabel(\"Iterations\")\n",
    "ax.set_ylabel(\"Negative Log-Likelihood\")\n",
    "plt.show()"
   ]
  },
  {
   "cell_type": "code",
   "execution_count": null,
   "metadata": {},
   "outputs": [],
   "source": []
  },
  {
   "cell_type": "code",
   "execution_count": 7,
   "metadata": {},
   "outputs": [
    {
     "name": "stdout",
     "output_type": "stream",
     "text": [
      "Digits accuracy: 48.63%\n"
     ]
    }
   ],
   "source": [
    "def predict(x_test, W, y, biases, n_cls):\n",
    "    logit_scores = linearPredict(x_test, W, biases, n_cls)\n",
    "    probs = softmax(logit_scores, n_cls)\n",
    "    \n",
    "    y_hat = np.argmax(probs, axis = 1).reshape(-1,1)\n",
    "    accuracy = (y_hat == y).sum() / len(y) * 100\n",
    "    \n",
    "    return accuracy\n",
    "\n",
    "# feature and label vectors\n",
    "#X_test = test.loc[:, :'X_test_65'].to_numpy()\n",
    "#y_test = test.loc[:, 'Var2'].to_numpy().reshape(-1, 1)\n",
    "\n",
    "X_test = test.loc[:, :'X_test_2001'].to_numpy()\n",
    "y_test = test.loc[:, 'Var2'].to_numpy().reshape(-1, 1)\n",
    "\n",
    "\n",
    "X_test = scaler.transform(X_test)\n",
    "\n",
    "acc = predict(X_test, W, y_test, biases, n_cls)\n",
    "\n",
    "print(f\"Digits accuracy: {acc:.2f}%\")\n",
    "\n"
   ]
  },
  {
   "cell_type": "code",
   "execution_count": 5,
   "metadata": {},
   "outputs": [
    {
     "data": {
      "image/png": "[encoded data removed]",
      "text/plain": [
       "<Figure size 432x288 with 1 Axes>"
      ]
     },
     "metadata": {},
     "output_type": "display_data"
    }
   ],
   "source": [
    "x = np.arange(iterations)\n",
    "\n",
    "ax = sns.lineplot(x=x, y=costs, palette=['red'])\n",
    "sns.color_palette()\n",
    "#ax.set_palette(\"Reds\")\n",
    "#ax.set_title(\"\")\n",
    "ax.set_xlabel(\"Iterations\")\n",
    "ax.set_ylabel(\" Log-Likelihood\")\n",
    "plt.show()"
   ]
  },
  {
   "cell_type": "code",
   "execution_count": null,
   "metadata": {},
   "outputs": [],
   "source": []
  }
 ],
 "metadata": {
  "kernelspec": {
   "display_name": "Python 3",
   "language": "python",
   "name": "python3"
  },
  "language_info": {
   "codemirror_mode": {
    "name": "ipython",
    "version": 3
   },
   "file_extension": ".py",
   "mimetype": "text/x-python",
   "name": "python",
   "nbconvert_exporter": "python",
   "pygments_lexer": "ipython3",
   "version": "3.8.3"
  }
 },
 "nbformat": 4,
 "nbformat_minor": 4
}
